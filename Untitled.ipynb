{
 "cells": [
  {
   "cell_type": "code",
   "execution_count": 1,
   "metadata": {},
   "outputs": [],
   "source": [
    "import warnings\n",
    "warnings.filterwarnings('ignore')\n",
    "from sklearn.linear_model import LogisticRegression\n",
    "import pandas as pd\n",
    "import random\n",
    "import numpy as np\n",
    "from sklearn.metrics import classification_report\n",
    "from sklearn.svm import SVC\n",
    "from sklearn.ensemble import RandomForestClassifier\n",
    "from sklearn.model_selection import train_test_split\n",
    "from sklearn.preprocessing import MinMaxScaler\n",
    "from sklearn.tree import DecisionTreeClassifier\n",
    "from sklearn.decomposition import NMF, non_negative_factorization\n",
    "import train\n",
    "from classifiers import CombinedRF"
   ]
  },
  {
   "cell_type": "markdown",
   "metadata": {},
   "source": [
    "## ICA"
   ]
  },
  {
   "cell_type": "code",
   "execution_count": 2,
   "metadata": {},
   "outputs": [],
   "source": [
    "classifier_name_rf = 'sklearn.ensemble.RandomForestClassifier'\n",
    "classifier_name_gbm = 'sklearn.ensemble.GradientBoostingClassifier'\n",
    "classifier_name_xgb = 'xgboost.XGBClassifier'\n",
    "classifier_name_svm = 'sklearn.svm.SVC'\n",
    "\n",
    "classifier_args_rf = dict(bootstrap=True, class_weight=None, criterion='gini', max_depth=21, max_features='auto',\n",
    "                          max_leaf_nodes=None,min_impurity_decrease=0.0, min_impurity_split=None, min_samples_leaf=3,\n",
    "                          min_samples_split=5,min_weight_fraction_leaf=0.0, n_estimators=791, n_jobs=None, oob_score=False,\n",
    "                          random_state=None,verbose=0, warm_start=False)\n",
    "\n",
    "classifier_args_gbm = dict(criterion='friedman_mse', init=None, learning_rate=0.11, loss='deviance',\n",
    "                           max_depth=8, max_features='sqrt', max_leaf_nodes=None, min_impurity_decrease=0.0,\n",
    "                           min_impurity_split=None, min_samples_leaf=50, min_samples_split=200, \n",
    "                           min_weight_fraction_leaf=0.0, n_estimators=641, n_iter_no_change=None, presort='auto', \n",
    "                           random_state=10, subsample=0.8, tol=0.0001, validation_fraction=0.1, verbose=0, warm_start=False)\n",
    "\n",
    "classifier_args_xgb = dict(learning_rate=0.51, n_estimators=800, max_depth=5, min_child_weight=13, gamma=1e-15,\n",
    "                           subsample=0.8, colsample_bytree=0.6, objective='reg:squarederror', nthread=4,\n",
    "                           scale_pos_weight=1,seed=27, reg_alpha=0.001)\n",
    "\n",
    "classifier_args_svm = dict(C=500.0, cache_size=200, class_weight=None, coef0=0.0, decision_function_shape='ovr', degree=4,\n",
    "                           gamma=0.25, kernel='rbf',max_iter=-1, probability=True, random_state=None, shrinking=True, \n",
    "                           tol=0.001, verbose=False)\n",
    "num_iter = 250"
   ]
  },
  {
   "cell_type": "code",
   "execution_count": 4,
   "metadata": {},
   "outputs": [
    {
     "name": "stdout",
     "output_type": "stream",
     "text": [
      "Model fitting done...\n",
      "Model prediction done...\n",
      "              precision    recall  f1-score   support\n",
      "\n",
      "           0       0.00      0.00      0.00         7\n",
      "           1       0.95      1.00      0.97       134\n",
      "\n",
      "    accuracy                           0.95       141\n",
      "   macro avg       0.48      0.50      0.49       141\n",
      "weighted avg       0.90      0.95      0.93       141\n",
      "\n",
      "0.950354609929078\n",
      "Start time: \t\t14:24:17\n",
      "Elapsed time: \t\t00:04:48\n",
      "End time: \t\t14:29:05\n"
     ]
    }
   ],
   "source": [
    "train.run_ICA(classifier_name_gbm, classifier_args_gbm, num_iter)"
   ]
  },
  {
   "cell_type": "code",
   "execution_count": null,
   "metadata": {},
   "outputs": [
    {
     "name": "stdout",
     "output_type": "stream",
     "text": [
      "Model fitting done...\n"
     ]
    }
   ],
   "source": [
    "train.run_ICA(classifier_name_svm, classifier_args_svm, num_iter)"
   ]
  },
  {
   "cell_type": "code",
   "execution_count": null,
   "metadata": {},
   "outputs": [],
   "source": [
    "train.run_ICA(classifier_name_rf, classifier_args_rf, num_iter)"
   ]
  },
  {
   "cell_type": "markdown",
   "metadata": {},
   "source": [
    "### WQRF"
   ]
  },
  {
   "cell_type": "code",
   "execution_count": null,
   "metadata": {},
   "outputs": [],
   "source": [
    "train_new.run_WQRF(100)"
   ]
  },
  {
   "cell_type": "code",
   "execution_count": null,
   "metadata": {},
   "outputs": [],
   "source": []
  }
 ],
 "metadata": {
  "kernelspec": {
   "display_name": "Python 3",
   "language": "python",
   "name": "python3"
  },
  "language_info": {
   "codemirror_mode": {
    "name": "ipython",
    "version": 3
   },
   "file_extension": ".py",
   "mimetype": "text/x-python",
   "name": "python",
   "nbconvert_exporter": "python",
   "pygments_lexer": "ipython3",
   "version": "3.6.9"
  }
 },
 "nbformat": 4,
 "nbformat_minor": 4
}
